{
 "cells": [
  {
   "cell_type": "markdown",
   "id": "ccaa8a80",
   "metadata": {},
   "source": [
    "# Write a Python Program(with class concepts) to find the area of the triangle using the below formula.\n",
    "area = (s*(s-a)*(s-b)*(s-c)) ** 0.5\n",
    "Function to take the length of the sides of triangle from user should be defined in the parent \n",
    "class and function to calculate the area should be defined in subclass"
   ]
  },
  {
   "cell_type": "code",
   "execution_count": 7,
   "id": "f93256d7",
   "metadata": {},
   "outputs": [
    {
     "name": "stdout",
     "output_type": "stream",
     "text": [
      "a = 4\n",
      "b = 6\n",
      "c = 8\n",
      "area: 11.61895003862225\n"
     ]
    }
   ],
   "source": [
    "class side:\n",
    "    def __init__(self,a,b,c):\n",
    "        self.a=float(a)\n",
    "        self.b=float(b)\n",
    "        self.c=float(c)\n",
    "        self.area = 0\n",
    "    \n",
    "class triangle(side):\n",
    "    def triangle_area(self,a,b,c):\n",
    "        side.__init__(self,a,b,c)\n",
    "    \n",
    "    def calculate_area(self):\n",
    "        s=(self.a+self.b+self.c)/2\n",
    "        self.area=float((s*(s-self.a)*(s-self.b)*(s-self.c)) )**0.5\n",
    "    def show_area(self):\n",
    "        return self.area\n",
    "a, b, c = input(\"a = \"), input(\"b = \"), input(\"c = \")\n",
    "    \n",
    "t=triangle(a,b,c)\n",
    "t.calculate_area()\n",
    "print(\"area: {}\".format(t.show_area()))"
   ]
  },
  {
   "cell_type": "markdown",
   "id": "02929de1",
   "metadata": {},
   "source": [
    "# Write a function filter_long_words() that takes a list of words and an integer n and returns the list of words that are longer than n."
   ]
  },
  {
   "cell_type": "code",
   "execution_count": 23,
   "id": "06861541",
   "metadata": {},
   "outputs": [
    {
     "data": {
      "text/plain": [
       "['Akankshya', 'nayak', 'priyansi', 'oops', 'hole']"
      ]
     },
     "execution_count": 23,
     "metadata": {},
     "output_type": "execute_result"
    }
   ],
   "source": [
    "def filterlong_words(lst, n):\n",
    "    return list(filter(lambda ele: len(ele) > n, lst))\n",
    "\n",
    "\n",
    "test = [\"Akankshya\", \"nayak\", \"priyansi\", \"oops\", \"hi\", \"hole\", \"o\"]\n",
    "filterlong_words(test, 3)\n",
    "    "
   ]
  },
  {
   "cell_type": "markdown",
   "id": "46cd582d",
   "metadata": {},
   "source": [
    "# Write a Python program using function concept that maps list of words into a list of integers representing the lengths of the corresponding words.\n",
    "Hint: If a list [ ab,cde,erty] is passed on to the python function output should come as [2,3,4]\n",
    "Here 2,3 and 4 are the lengths of the words in the list.\n"
   ]
  },
  {
   "cell_type": "code",
   "execution_count": 38,
   "id": "e9530b1c",
   "metadata": {},
   "outputs": [
    {
     "name": "stdout",
     "output_type": "stream",
     "text": [
      "List of Word: hii what oye how\n",
      "List of wordlength:[3, 4, 3, 3]\n"
     ]
    }
   ],
   "source": [
    "listofwords = input('List of Word: ').split() \n",
    "listofints = []\n",
    " \n",
    "for i in range(len(listofwords)):\n",
    "    listofints.append(len(listofwords[i]))\n",
    "     \n",
    "print (\"List of wordlength:\"+str(listofints))"
   ]
  },
  {
   "cell_type": "markdown",
   "id": "2562a862",
   "metadata": {},
   "source": [
    "# Write a Python function which takes a character (i.e. a string of length 1) and returns True if it is a vowel, False otherwise"
   ]
  },
  {
   "cell_type": "code",
   "execution_count": 24,
   "id": "20f53ce2",
   "metadata": {},
   "outputs": [
    {
     "name": "stdout",
     "output_type": "stream",
     "text": [
      "Enter a character :a\n",
      "Is a a vowel?:  True\n"
     ]
    }
   ],
   "source": [
    "def if_vowel(char):\n",
    "    vowel = [\"a\", \"e\", \"i\", \"o\", \"u\"]\n",
    "    if len(char) > 1:\n",
    "        print(\"Please enter only one character\")\n",
    "    elif char in vowel:\n",
    "        return True\n",
    "    else:\n",
    "        return False\n",
    "\n",
    "\n",
    "char = input(\"Enter a character :\")\n",
    "new_char = char.lower()\n",
    "print(\"Is {} a vowel?: \".format(char),if_vowel(new_char))"
   ]
  }
 ],
 "metadata": {
  "kernelspec": {
   "display_name": "Python 3 (ipykernel)",
   "language": "python",
   "name": "python3"
  },
  "language_info": {
   "codemirror_mode": {
    "name": "ipython",
    "version": 3
   },
   "file_extension": ".py",
   "mimetype": "text/x-python",
   "name": "python",
   "nbconvert_exporter": "python",
   "pygments_lexer": "ipython3",
   "version": "3.9.7"
  }
 },
 "nbformat": 4,
 "nbformat_minor": 5
}
